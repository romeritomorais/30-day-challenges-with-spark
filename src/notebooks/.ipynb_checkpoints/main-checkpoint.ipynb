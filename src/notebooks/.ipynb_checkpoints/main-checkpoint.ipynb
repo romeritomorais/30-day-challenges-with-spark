{
 "cells": [
  {
   "cell_type": "code",
   "execution_count": null,
   "id": "8b16bd4d",
   "metadata": {},
   "outputs": [],
   "source": [
    "!rm -rf 30-day-challenges-with-spark;\n",
    "!git clone https://github.com/romeritomorais/30-day-challenges-with-spark.git > /dev/null 2>&1 && sh 30-day-challenges-with-spark/setup.sh;"
   ]
  },
  {
   "cell_type": "code",
   "execution_count": null,
   "id": "bebb4c76",
   "metadata": {},
   "outputs": [],
   "source": [
    "# dados\n",
    "\n",
    "!tree 30-day-challenges-with-spark/src/data"
   ]
  },
  {
   "cell_type": "code",
   "execution_count": null,
   "id": "e7f809bf",
   "metadata": {},
   "outputs": [],
   "source": [
    "from pyspark.sql import SparkSession\n",
    "from pyspark.sql.functions import * \n",
    "from pyspark.sql.window import Window\n",
    "\n",
    "spark = SparkSession\\\n",
    "   .builder\\\n",
    "   .appName(\"30dayspark\")\\\n",
    "   .getOrCreate()\n",
    "\n",
    "File=\"crimes-de-chicago-2022.csv\"\n",
    "PathData=f\"30-day-challenges-with-spark/src/data/{File}\""
   ]
  },
  {
   "cell_type": "code",
   "execution_count": null,
   "id": "71d7b1e6",
   "metadata": {},
   "outputs": [],
   "source": [
    "df = spark\\\n",
    "    .read\\\n",
    "    .format(\"csv\")\\\n",
    "    .option(\"path\", f\"{PathData}\")\\\n",
    "    .option(\"header\", \"true\")\\\n",
    "    .load(); \n",
    "    \n",
    "df.show()"
   ]
  }
 ],
 "metadata": {
  "kernelspec": {
   "display_name": "Python 3",
   "language": "python",
   "name": "python3"
  },
  "language_info": {
   "codemirror_mode": {
    "name": "ipython",
    "version": 3
   },
   "file_extension": ".py",
   "mimetype": "text/x-python",
   "name": "python",
   "nbconvert_exporter": "python",
   "pygments_lexer": "ipython3",
   "version": "3.10.4"
  }
 },
 "nbformat": 4,
 "nbformat_minor": 5
}
